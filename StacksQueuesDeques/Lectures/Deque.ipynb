{
 "cells": [
  {
   "cell_type": "markdown",
   "metadata": {},
   "source": [
    "# Deque\n",
    "* known as a double-eneded queue, is an ordered collection of items similar to the queue\n",
    "* it has two ends front and a rear\n",
    "## What makes a Deque different from a Queue?\n",
    "* unrestrictive nature of adding and removing items\n",
    "* new items can be addded at either the front or the rear\n",
    "* Likewise it existing items can be removed from either end"
   ]
  },
  {
   "cell_type": "markdown",
   "metadata": {},
   "source": [
    "# Implementation of a Deque"
   ]
  },
  {
   "cell_type": "code",
   "execution_count": 2,
   "metadata": {},
   "outputs": [],
   "source": [
    "class Deque(object):\n",
    "    \n",
    "    def __init__(self):\n",
    "        self.items = []\n",
    "    \n",
    "    def addFront(self, item):\n",
    "        self.items.append(item)\n",
    "    \n",
    "    def addRear(self, item):\n",
    "        self.items.insert(0, item)\n",
    "    \n",
    "    def removeFront(self):\n",
    "        return self.items.pop()\n",
    "        \n",
    "    def removeRear(self):\n",
    "        return self.items.pop(0)\n",
    "    \n",
    "    def isEmpty(self):\n",
    "        return self.items == []\n",
    "    \n",
    "    def size(self):\n",
    "        return len(self.items)\n",
    "    "
   ]
  },
  {
   "cell_type": "code",
   "execution_count": 4,
   "metadata": {},
   "outputs": [],
   "source": [
    "d = Deque()"
   ]
  },
  {
   "cell_type": "code",
   "execution_count": 5,
   "metadata": {},
   "outputs": [
    {
     "data": {
      "text/plain": [
       "2"
      ]
     },
     "execution_count": 5,
     "metadata": {},
     "output_type": "execute_result"
    }
   ],
   "source": [
    "d.addRear(\"hello\")\n",
    "d.addFront(\"world\")\n",
    "d.size()"
   ]
  },
  {
   "cell_type": "code",
   "execution_count": 6,
   "metadata": {},
   "outputs": [
    {
     "name": "stdout",
     "output_type": "stream",
     "text": [
      "world hello\n"
     ]
    }
   ],
   "source": [
    "print(d.removeFront() + \" \" + d.removeRear())"
   ]
  },
  {
   "cell_type": "code",
   "execution_count": null,
   "metadata": {},
   "outputs": [],
   "source": []
  }
 ],
 "metadata": {
  "kernelspec": {
   "display_name": "Python 3",
   "language": "python",
   "name": "python3"
  },
  "language_info": {
   "codemirror_mode": {
    "name": "ipython",
    "version": 3
   },
   "file_extension": ".py",
   "mimetype": "text/x-python",
   "name": "python",
   "nbconvert_exporter": "python",
   "pygments_lexer": "ipython3",
   "version": "3.7.3"
  }
 },
 "nbformat": 4,
 "nbformat_minor": 2
}
