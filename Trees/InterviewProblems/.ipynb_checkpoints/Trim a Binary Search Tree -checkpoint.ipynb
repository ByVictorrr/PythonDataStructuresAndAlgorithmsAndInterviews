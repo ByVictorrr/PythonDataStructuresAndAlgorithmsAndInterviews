{
 "cells": [
  {
   "cell_type": "markdown",
   "metadata": {},
   "source": [
    "# Trim a Binary Search Tree \n",
    "\n",
    "## Problem Statement\n",
    "\n",
    "Given the root of a binary search tree and 2 numbers min and max, trim the tree such that all the numbers in the new tree are between min and max (inclusive). The resulting tree should still be a valid binary search tree. So, if we get this tree as input:\n",
    "___\n",
    "\n",
    "![title](bst1.png)\n",
    "___\n",
    "and we’re given **min value as 5** and **max value as 13**, then the resulting binary search tree should be: \n",
    "___\n",
    "![title](bst_trim.png)\n",
    "___\n",
    "We should remove all the nodes whose value is not between min and max. \n",
    "\n",
    "___\n",
    "** Feel free to reference the lecture on Binary Search Tree for the node class, but what it more important here is the logic of your function. In which case your function should be in the form:**"
   ]
  },
  {
   "cell_type": "code",
   "execution_count": 36,
   "metadata": {},
   "outputs": [],
   "source": [
    "class Node(object):\n",
    "    def __init__(self, val):\n",
    "        self.right = None\n",
    "        self.left = None\n",
    "        self.val = val\n"
   ]
  },
  {
   "cell_type": "code",
   "execution_count": 37,
   "metadata": {},
   "outputs": [],
   "source": [
    "\n",
    "\n",
    "def setChild(p, child):\n",
    "    if p.val <= child.val:\n",
    "        p.right = child\n",
    "    else:\n",
    "        p.left = child\n",
    "        \n",
    "def trimBST(tree,minVal,maxVal):\n",
    "    \n",
    "    prev = None\n",
    "    # Base case \n",
    "    if not tree:\n",
    "        return None\n",
    "    \n",
    "    # recursive case\n",
    "    # Case 1 - check to see if the curr_node meets requirments\n",
    "    if minVal <= tree.val <= maxVal: \n",
    "        prev = tree\n",
    "        print(prev)\n",
    "        trimBST(tree.left, minVal, maxVal)\n",
    "        trimBST(tree.right, minVal, maxVal) \n",
    "    # Case 2 - if the curr node val isnt in between that range trim it\n",
    "    else:\n",
    "        print(prev)\n",
    "        # Case 2.1 - the curr node has childrent\n",
    "        if tree.right or tree.left:\n",
    "            # Case 2.1.1 - has both children\n",
    "            if tree.right and tree.left:\n",
    "                pass\n",
    "                \n",
    "            # Case 2.1.2 - has only RC\n",
    "            elif tree.right:\n",
    "                pass\n",
    "                \n",
    "            # Case 2.1.3 - has only LC\n",
    "            else: \n",
    "                pass\n",
    "         \n",
    "        # Case 2.2 - the curr node has no children\n",
    "        else:\n",
    "            del tree \n",
    "\n",
    "# Use tree.left , tree.right , and tree.val as your methods to call"
   ]
  },
  {
   "cell_type": "code",
   "execution_count": 38,
   "metadata": {},
   "outputs": [],
   "source": [
    "def preorder(root):\n",
    "    if root:\n",
    "        print(root.val)\n",
    "        preorder(root.left)\n",
    "        preorder(root.right)\n",
    "        "
   ]
  },
  {
   "cell_type": "code",
   "execution_count": 39,
   "metadata": {},
   "outputs": [
    {
     "name": "stdout",
     "output_type": "stream",
     "text": [
      "Before\n",
      "None\n",
      "None\n",
      "After\n"
     ]
    }
   ],
   "source": [
    "root = Node(8)\n",
    "root.left  = Node(3)\n",
    "root.right = Node(10)\n",
    "root.right.right = Node(14)\n",
    "root.right.right.left = Node(13)\n",
    "\n",
    "print(\"Before\")\n",
    "#preorder(root)\n",
    "trimBST(root, 5, 12)\n",
    "print(\"After\")\n",
    "#preorder(root)"
   ]
  },
  {
   "cell_type": "markdown",
   "metadata": {},
   "source": [
    "** There is no solution cell because the nature of the code should be more logical and a test would essentially give away the answer. Just focus your answer to fill out the logic of the solution using the methods described above **\n",
    "\n",
    "## Best of luck!"
   ]
  },
  {
   "cell_type": "code",
   "execution_count": null,
   "metadata": {},
   "outputs": [],
   "source": []
  }
 ],
 "metadata": {
  "kernelspec": {
   "display_name": "Python 3",
   "language": "python",
   "name": "python3"
  },
  "language_info": {
   "codemirror_mode": {
    "name": "ipython",
    "version": 3
   },
   "file_extension": ".py",
   "mimetype": "text/x-python",
   "name": "python",
   "nbconvert_exporter": "python",
   "pygments_lexer": "ipython3",
   "version": "3.7.3"
  }
 },
 "nbformat": 4,
 "nbformat_minor": 1
}
