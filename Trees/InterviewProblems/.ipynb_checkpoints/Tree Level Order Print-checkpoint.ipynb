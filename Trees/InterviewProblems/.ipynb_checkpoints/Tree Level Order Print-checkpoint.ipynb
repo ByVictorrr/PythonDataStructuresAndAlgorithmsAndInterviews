{
 "cells": [
  {
   "cell_type": "markdown",
   "metadata": {},
   "source": [
    "# Tree Level Order Print \n",
    "\n",
    "Given a binary tree of integers, print it in level order. The output will contain space between the numbers in the same level, and new line between different levels. For example, if the tree is: \n",
    "___\n",
    "![title](tree_print.png)\n",
    "___\n",
    "The output should be: \n",
    "\n",
    "    1 \n",
    "    2 3 \n",
    "    4 5 6"
   ]
  },
  {
   "cell_type": "markdown",
   "metadata": {},
   "source": [
    "## Solution\n",
    "\n",
    "Fill out your solution below:"
   ]
  },
  {
   "cell_type": "code",
   "execution_count": 3,
   "metadata": {},
   "outputs": [],
   "source": [
    "class Node:\n",
    "    def __init__(self, val=None):\n",
    "        self.left = None\n",
    "        self.right = None\n",
    "        self.val =  val \n"
   ]
  },
  {
   "cell_type": "code",
   "execution_count": 7,
   "metadata": {},
   "outputs": [],
   "source": [
    "import collections\n",
    "\n",
    "def levelOrderPrint(tree): \n",
    "    \n",
    "    # base case - return if no m\n",
    "    if not tree:\n",
    "        return \n",
    "    \n",
    "    next_count = 0\n",
    "    current_count = 1 # the root\n",
    "    \n",
    "    d = collections.deque([tree])\n",
    "    \n",
    "    while len(d) > 0:\n",
    "        \n",
    "        curr = d.popleft()\n",
    "        print(curr.val, end= ' ')\n",
    "        current_count-= 1\n",
    "        \n",
    "        if curr.left:\n",
    "            d.append(curr.left)\n",
    "            next_count+=1\n",
    "            \n",
    "        if curr.right:  \n",
    "            d.append(curr.right)\n",
    "            next_count+=1\n",
    "            \n",
    "        # new level\n",
    "        if current_count == 0:\n",
    "            print()\n",
    "            current_count = next_count\n",
    "        \n",
    "            \n",
    "        \n",
    "            \n",
    "    \n",
    "    \n",
    "        \n",
    "        "
   ]
  },
  {
   "cell_type": "code",
   "execution_count": 8,
   "metadata": {},
   "outputs": [
    {
     "name": "stdout",
     "output_type": "stream",
     "text": [
      "1 \n",
      "\n",
      "2 3 \n",
      "\n",
      "4 5 6 "
     ]
    }
   ],
   "source": [
    "root = Node(1) \n",
    "root.left=Node(2)\n",
    "root.left.left = Node(4)\n",
    "root.right = Node(3)\n",
    "root.right.left = Node(5)\n",
    "root.right.right = Node(6)\n",
    "\n",
    "levelOrderPrint(root)\n",
    "\n"
   ]
  },
  {
   "cell_type": "code",
   "execution_count": null,
   "metadata": {},
   "outputs": [],
   "source": []
  },
  {
   "cell_type": "code",
   "execution_count": null,
   "metadata": {},
   "outputs": [],
   "source": []
  },
  {
   "cell_type": "code",
   "execution_count": null,
   "metadata": {},
   "outputs": [],
   "source": []
  }
 ],
 "metadata": {
  "kernelspec": {
   "display_name": "Python 3",
   "language": "python",
   "name": "python3"
  },
  "language_info": {
   "codemirror_mode": {
    "name": "ipython",
    "version": 3
   },
   "file_extension": ".py",
   "mimetype": "text/x-python",
   "name": "python",
   "nbconvert_exporter": "python",
   "pygments_lexer": "ipython3",
   "version": "3.7.3"
  }
 },
 "nbformat": 4,
 "nbformat_minor": 1
}
