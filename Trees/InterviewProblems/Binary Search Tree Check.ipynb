{
 "cells": [
  {
   "cell_type": "markdown",
   "metadata": {},
   "source": [
    "# Binary Search Tree Check \n",
    "\n",
    "## Problem Statement\n",
    "\n",
    "Given a binary tree, check whether it’s a binary search tree or not.\n",
    "\n",
    "** Again, no solution cell, just worry about your code making sense logically. Hint: Think about tree traversals. **\n",
    "\n",
    "## Solution\n",
    "\n",
    "\n",
    "Fill out your solution below:"
   ]
  },
  {
   "cell_type": "code",
   "execution_count": 73,
   "metadata": {},
   "outputs": [],
   "source": [
    "class Node(object):\n",
    "    \n",
    "    def __init__(self, val):\n",
    "        self.left = None\n",
    "        self.right = None\n",
    "        self.val = val\n",
    "      \n",
    "        \n",
    "class Tree(object): \n",
    "    def __init__(self, node):\n",
    "        self.root = node\n",
    "#####################################################################################\n",
    "def isBST(root):\n",
    "    \n",
    "    \n",
    "    # Base case - when the node is a leaf node stop\n",
    "    if (root == None or root.left == None and root.right == None):\n",
    "        return True\n",
    "    # recursive case - when not a leaf node\n",
    "    else:\n",
    "        # Rec case 1 - if the right child is less than the root\n",
    "        if root.right and root.val > root.right.val:\n",
    "            return False\n",
    "        # Rec case 2 - if the left child exists and its greater than or equal to root\n",
    "        elif root.left and root.left.val >= root.val:\n",
    "            return False \n",
    "        else:\n",
    "            return isBST(root.left) and isBST(root.right) and True\n"
   ]
  },
  {
   "cell_type": "code",
   "execution_count": 77,
   "metadata": {},
   "outputs": [
    {
     "name": "stdout",
     "output_type": "stream",
     "text": [
      "False\n",
      "True\n"
     ]
    }
   ],
   "source": [
    "root = Node(10)\n",
    "root.left = Node(5)\n",
    "root.right = Node(30)\n",
    "root.right.right = Node(15)\n",
    "tree = Tree(root) \n",
    "print(isBST(tree.root))\n",
    "\n",
    "#inorder(root)\n",
    "\n",
    "root = Node(10)\n",
    "root.right = Node(20)\n",
    "root.left = Node(5)\n",
    "root.left.right = Node(15)\n",
    "\n",
    "print(isBST(root))\n"
   ]
  },
  {
   "cell_type": "markdown",
   "metadata": {},
   "source": [
    "This is a classic interview problem, so feel free to just Google search \"Validate BST\" for more information on this problem!\n"
   ]
  },
  {
   "cell_type": "code",
   "execution_count": null,
   "metadata": {},
   "outputs": [],
   "source": []
  },
  {
   "cell_type": "code",
   "execution_count": null,
   "metadata": {},
   "outputs": [],
   "source": []
  }
 ],
 "metadata": {
  "kernelspec": {
   "display_name": "Python 3",
   "language": "python",
   "name": "python3"
  },
  "language_info": {
   "codemirror_mode": {
    "name": "ipython",
    "version": 3
   },
   "file_extension": ".py",
   "mimetype": "text/x-python",
   "name": "python",
   "nbconvert_exporter": "python",
   "pygments_lexer": "ipython3",
   "version": "3.7.3"
  }
 },
 "nbformat": 4,
 "nbformat_minor": 1
}
