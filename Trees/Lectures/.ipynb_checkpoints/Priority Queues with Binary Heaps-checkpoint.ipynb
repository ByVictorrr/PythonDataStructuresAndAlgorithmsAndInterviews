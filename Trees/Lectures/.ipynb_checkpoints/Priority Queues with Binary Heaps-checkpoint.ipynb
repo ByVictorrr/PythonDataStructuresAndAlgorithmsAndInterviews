{
 "cells": [
  {
   "cell_type": "markdown",
   "metadata": {},
   "source": [
    "# Priority Queues with Binary Heaps"
   ]
  },
  {
   "cell_type": "markdown",
   "metadata": {},
   "source": [
    "* priority Queue: is a queue, but the order in the queue is determined by the items priority\n",
    "* The class way to implement a priority queue is using a binary heap\n",
    "    * A binary heap will allow us both enqueue and dequeue items in O(logn)\n",
    "\n",
    "## Binary Heaps\n",
    "* The binary heaps has two common variations:\n",
    "    * Min heap: smallest key is always at the front\n",
    "    * Max heap: in which the largest key value is always at the front"
   ]
  },
  {
   "cell_type": "code",
   "execution_count": null,
   "metadata": {},
   "outputs": [],
   "source": []
  }
 ],
 "metadata": {
  "kernelspec": {
   "display_name": "Python 3",
   "language": "python",
   "name": "python3"
  },
  "language_info": {
   "codemirror_mode": {
    "name": "ipython",
    "version": 3
   },
   "file_extension": ".py",
   "mimetype": "text/x-python",
   "name": "python",
   "nbconvert_exporter": "python",
   "pygments_lexer": "ipython3",
   "version": "3.7.3"
  }
 },
 "nbformat": 4,
 "nbformat_minor": 2
}
