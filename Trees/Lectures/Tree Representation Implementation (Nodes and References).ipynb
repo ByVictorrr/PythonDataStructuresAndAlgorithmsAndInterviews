{
 "cells": [
  {
   "cell_type": "markdown",
   "metadata": {},
   "source": [
    "# Nodes and References Implementation of a Tree\n",
    "\n",
    "In this notebook is the code corresponding to the lecture for implementing the representation of a Tree as a class with nodes and references!\n",
    "\n",
    "* BST property: \n",
    "    * keys less than the parent go left\n",
    "    * keys more than the parent go right"
   ]
  },
  {
   "cell_type": "code",
   "execution_count": 2,
   "metadata": {},
   "outputs": [],
   "source": [
    "class BinaryTree(object):\n",
    "    def __init__(self,rootObj):\n",
    "        self.key = rootObj\n",
    "        self.leftChild = None\n",
    "        self.rightChild = None\n",
    "\n",
    "    def insertLeft(self,newNode):\n",
    "        if self.leftChild == None:\n",
    "            self.leftChild = BinaryTree(newNode)\n",
    "        else:\n",
    "            t = BinaryTree(newNode)\n",
    "            t.leftChild = self.leftChild\n",
    "            self.leftChild = t\n",
    "\n",
    "    def insertRight(self,newNode):\n",
    "        if self.rightChild == None:\n",
    "            self.rightChild = BinaryTree(newNode)\n",
    "        else:\n",
    "            t = BinaryTree(newNode)\n",
    "            t.rightChild = self.rightChild\n",
    "            self.rightChild = t\n",
    "\n",
    "\n",
    "    def getRightChild(self):\n",
    "        return self.rightChild\n",
    "\n",
    "    def getLeftChild(self):\n",
    "        return self.leftChild\n",
    "\n",
    "    def setRootVal(self,obj):\n",
    "        self.key = obj\n",
    "\n",
    "    def getRootVal(self):\n",
    "        return self.key"
   ]
  },
  {
   "cell_type": "code",
   "execution_count": 8,
   "metadata": {},
   "outputs": [],
   "source": [
    "def preorder(root):\n",
    "    if root != None:\n",
    "        print(root.getRootVal())\n",
    "        preorder(root.getLeftChild())\n",
    "        preorder(root.getRightChild())\n",
    "    else:\n",
    "        return\n",
    "    \n",
    "def inorder(root):\n",
    "    if root != None:\n",
    "        preorder(root.getLeftChild()) \n",
    "        print(root.getRootVal())\n",
    "        preorder(root.getRightChild())\n",
    "    else:\n",
    "        return\n",
    "    \n",
    "def postorder(root):\n",
    "    if root != None:\n",
    "        preorder(root.getLeftChild())\n",
    "        preorder(root.getRightChild())\n",
    "        print(root.getRootVal())\n",
    "    else:\n",
    "        return\n",
    "         "
   ]
  },
  {
   "cell_type": "markdown",
   "metadata": {},
   "source": [
    "We can see some examples of creating a tree and assigning children. Note that some outputs are Trees themselves!"
   ]
  },
  {
   "cell_type": "code",
   "execution_count": 3,
   "metadata": {},
   "outputs": [],
   "source": [
    "r = BinaryTree(6)\n",
    "r.insertLeft(9)\n",
    "r.insertLeft(4)\n",
    "r.getLeftChild().insertRight(2)\n",
    "r.insertRight(3)\n",
    "r.insertRight(2)\n",
    "r.getRightChild().insertLeft(11)"
   ]
  },
  {
   "cell_type": "code",
   "execution_count": 10,
   "metadata": {},
   "outputs": [
    {
     "name": "stdout",
     "output_type": "stream",
     "text": [
      "4\n",
      "9\n",
      "2\n",
      "2\n",
      "11\n",
      "3\n",
      "6\n"
     ]
    }
   ],
   "source": [
    "#preorder(r)\n",
    "postorder(r)"
   ]
  },
  {
   "cell_type": "code",
   "execution_count": null,
   "metadata": {},
   "outputs": [],
   "source": []
  }
 ],
 "metadata": {
  "kernelspec": {
   "display_name": "Python 3",
   "language": "python",
   "name": "python3"
  },
  "language_info": {
   "codemirror_mode": {
    "name": "ipython",
    "version": 3
   },
   "file_extension": ".py",
   "mimetype": "text/x-python",
   "name": "python",
   "nbconvert_exporter": "python",
   "pygments_lexer": "ipython3",
   "version": "3.7.3"
  }
 },
 "nbformat": 4,
 "nbformat_minor": 1
}
