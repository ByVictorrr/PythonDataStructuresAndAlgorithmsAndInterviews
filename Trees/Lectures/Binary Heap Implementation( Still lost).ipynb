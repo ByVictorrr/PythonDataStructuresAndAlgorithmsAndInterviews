{
 "cells": [
  {
   "cell_type": "markdown",
   "metadata": {},
   "source": [
    "# Binary Heap Implementation\n",
    "\n",
    "Here is the reference code for the Binary Heap Implementation. Make sure to refer to the video lecture for the full explanation!"
   ]
  },
  {
   "cell_type": "markdown",
   "metadata": {},
   "source": [
    "### Binary Heap Operations\n",
    "**The basic operations we will implement for our binary heap are as follows:**\n",
    "\n",
    "* BinaryHeap() creates a new, empty, binary heap.\n",
    "* insert(k) adds a new item to the heap.\n",
    "* findMin() returns the item with the minimum key value, leaving item in the heap.\n",
    "* delMin() returns the item with the minimum key value, removing the item from the heap.\n",
    "* isEmpty() returns true if the heap is empty, false otherwise.\n",
    "* size() returns the number of items in the heap.\n",
    "* buildHeap(list) builds a new heap from a list of keys."
   ]
  },
  {
   "cell_type": "code",
   "execution_count": 13,
   "metadata": {},
   "outputs": [],
   "source": [
    "# index = 0 is filled with 0 \n",
    "# index = 1 is the root of the tree\n",
    "# children of p (right)= 2*p + 1  = index \n",
    "# children of p (left) = 2*p  = index\n",
    "# to get parent index = child index // 2\n",
    "# min heap - parent is less than its parent\n",
    "class BinHeap:\n",
    "    \n",
    "    def __init__(self):\n",
    "        self.heapList = [0]\n",
    "        self.currentSize = 0\n",
    "\n",
    "    def insert(self, k):\n",
    "        \n",
    "        self.currentSize += 1\n",
    "        self.heapList.append(k)\n",
    "        # now we need to percolate it up\n",
    "        self.percUp(self.currentSize)\n",
    "    \n",
    "    def percUp(self, i):\n",
    "        # case 1 - insert first element\n",
    "        if i == 1:\n",
    "            return\n",
    "        \n",
    "        while i // 2 > 0: # dont go past index 0\n",
    "            if self.heapList[i] < self.heapList[i//2] : \n",
    "                # parent index is i//2\n",
    "                self.heapList[i], self.heapList[i//2] = self.heapList[i//2],self.heapList[i]\n",
    "            i = i // 2 \n",
    "    \n",
    "    def findMin(self):\n",
    "        return self.heapList[1]\n",
    "\n",
    "    def delMin(self):\n",
    "         \n",
    "        #step 1- get the last value to put to the top\n",
    "        last_val = self.heapList[self.currentSize]\n",
    "        #step 2- get the root \n",
    "        ret_val = self.heapList[1]\n",
    "        #step 3 - decrement the size\n",
    "        self.currentSize-=1\n",
    "        #step 4 - put the last_val to the root\n",
    "        self.heapList.pop() # remove last value\n",
    "        self.heapList[1] = last_val \n",
    "        #step 5 - percDown\n",
    "        self.percDown(1)\n",
    "        \n",
    "    def percDown(self,i):\n",
    "        while (i * 2) <= self.currentSize:\n",
    "            mc = self.minChild(i)\n",
    "            if self.heapList[i] > self.heapList[mc]:\n",
    "                tmp = self.heapList[i]\n",
    "                self.heapList[i] = self.heapList[mc]\n",
    "                self.heapList[mc] = tmp\n",
    "            i = mc\n",
    "\n",
    "    def minChild(self,i):\n",
    "        if i * 2 + 1 > self.currentSize:\n",
    "            return i * 2\n",
    "        else:\n",
    "            if self.heapList[i*2] < self.heapList[i*2+1]:\n",
    "                return i * 2\n",
    "            else:\n",
    "                return i * 2 + 1\n",
    "\n",
    "def buildHeap(self,alist):\n",
    "    i = len(alist) // 2\n",
    "    self.currentSize = len(alist)\n",
    "    self.heapList = [0] + alist[:]\n",
    "    while (i > 0):\n",
    "        self.percDown(i)\n",
    "        i = i - 1"
   ]
  },
  {
   "cell_type": "code",
   "execution_count": 17,
   "metadata": {},
   "outputs": [],
   "source": [
    "heap = BinHeap()\n",
    "heap.insert(2)\n",
    "heap.insert(3)\n",
    "heap.insert(1)\n",
    "heap.insert(-1)\n",
    "heap.insert(2)"
   ]
  },
  {
   "cell_type": "code",
   "execution_count": 18,
   "metadata": {},
   "outputs": [
    {
     "name": "stdout",
     "output_type": "stream",
     "text": [
      "[0, -1, 1, 2, 3, 2]\n"
     ]
    }
   ],
   "source": [
    "print(heap.heapList)"
   ]
  },
  {
   "cell_type": "code",
   "execution_count": null,
   "metadata": {},
   "outputs": [],
   "source": []
  }
 ],
 "metadata": {
  "kernelspec": {
   "display_name": "Python 3",
   "language": "python",
   "name": "python3"
  },
  "language_info": {
   "codemirror_mode": {
    "name": "ipython",
    "version": 3
   },
   "file_extension": ".py",
   "mimetype": "text/x-python",
   "name": "python",
   "nbconvert_exporter": "python",
   "pygments_lexer": "ipython3",
   "version": "3.7.3"
  }
 },
 "nbformat": 4,
 "nbformat_minor": 1
}
