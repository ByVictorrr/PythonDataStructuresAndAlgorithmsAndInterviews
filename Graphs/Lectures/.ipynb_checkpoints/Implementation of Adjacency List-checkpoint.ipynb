{
 "cells": [
  {
   "cell_type": "markdown",
   "metadata": {},
   "source": [
    "# Implementation of a Graph as an Adjacency List\n",
    "\n",
    "\n",
    "Using dictionaries, it is easy to implement the adjacency list in Python. In our implementation of the Graph abstract data type we will create two classes: **Graph**, which holds the master list of vertices, and **Vertex**, which will represent each vertex in the graph.\n",
    "\n",
    "Each Vertex uses a dictionary to keep track of the vertices to which it is connected, and the weight of each edge. This dictionary is called **connectedTo**. The constructor simply initializes the id, which will typically be a string, and the **connectedTo** dictionary. The **addNeighbor** method is used add a connection from this vertex to another. The **getConnections** method returns all of the vertices in the adjacency list, as represented by the **connectedTo** instance variable. The **getWeight** method returns the weight of the edge from this vertex to the vertex passed as a parameter.\n",
    "\n",
    "\n",
    "## When should I use a Adj Matrix?\n",
    "* when alot of edges are required"
   ]
  },
  {
   "cell_type": "code",
   "execution_count": 7,
   "metadata": {},
   "outputs": [],
   "source": [
    "class Vertex:\n",
    "    \"\"\"Holds data for vertices (nodes) of our graph object\"\"\" \n",
    "    def __init__(self,identifier):\n",
    "        self.connectedTo = dict()\n",
    "        self.id = identifier\n",
    "        \n",
    "    # nbr: Vertex\n",
    "    def addNeighbor(self,nbr,weight=0):\n",
    "        self.connectedTo[nbr] = weight\n",
    "        \n",
    "    def getConnections(self):\n",
    "        return self.connectedTo.keys()\n",
    "    \n",
    "    def getId(self):\n",
    "        return self.id\n",
    "    \n",
    "    def getWeight(self,nbr):\n",
    "        return self.connectedTo[nbr]\n",
    "    \n",
    "    def __str__(self):\n",
    "        return str(self.id) + ' connected to: ' + str([x.id for x in self.connectedTo])\n",
    "    "
   ]
  },
  {
   "cell_type": "markdown",
   "metadata": {
    "collapsed": true
   },
   "source": [
    "In order to implement a Graph as an Adjacency List what we need to do is define the methods our Adjacency List object will have:\n",
    "\n",
    "* **Graph()** creates a new, empty graph.\n",
    "* **addVertex(vert)** adds an instance of Vertex to the graph.\n",
    "* **addEdge(fromVert, toVert)** Adds a new, directed edge to the graph that connects two vertices.\n",
    "* **addEdge(fromVert, toVert, weight)** Adds a new, weighted, directed edge to the graph that connects two vertices.\n",
    "* **getVertex(vertKey)** finds the vertex in the graph named vertKey.\n",
    "* **getVertices()** returns the list of all vertices in the graph. \n",
    "* **in** returns True for a statement of the form vertex in graph, if the given vertex is in the graph, False otherwise."
   ]
  },
  {
   "cell_type": "code",
   "execution_count": 12,
   "metadata": {},
   "outputs": [],
   "source": [
    "class Graph:\n",
    "    \"\"\"Base graph class using Adjacency list\"\"\" \n",
    "    def __init__(self):\n",
    "        self.vertices = dict()\n",
    "        self.numVertices = 0\n",
    "        \n",
    "    \n",
    "    def addVertex(self, key):\n",
    "        self.numVertices += 1\n",
    "        self.vertices[key] = Vertex(key)\n",
    "        return self.vertices[key]\n",
    "        \n",
    "    def getVertex(self,n):\n",
    "        if n in self.vertices:\n",
    "            return self.vertices[n]\n",
    "        else:\n",
    "            return None\n",
    "        \n",
    "    def getVertices(self):\n",
    "        return self.vertices.keys()\n",
    "    \n",
    "    \n",
    "    \n",
    "    \n",
    "    def addEdge(self, fromVert, toVert, weight):\n",
    "        if fromVert not in self.vertices: \n",
    "            self.addVertex(fromVert)\n",
    "        if toVert not in self.vertices:\n",
    "            self.addVertex(toVert)    \n",
    "            \n",
    "        to_v = self.vertices[toVert]\n",
    "        from_v = self.vertices[fromVert]\n",
    "        from_v.addNeighbor(to_v,weight)\n",
    "        \n",
    "    \n",
    "    # when using in a for loop allows us to iterate through the vertex objects\n",
    "    def __iter__(self):\n",
    "        return iter(self.vertices.values())\n",
    "\n",
    "    # allows us to use in operator (n in )\n",
    "    def __contains__(self,n):\n",
    "        return n in self.vertices()\n",
    "    \n",
    "    def inGraph(self, v):\n",
    "        for vertex in self.vertices:\n",
    "            if v==vertex:\n",
    "                return True\n",
    "        \n",
    "        return False\n",
    "    \n",
    "    "
   ]
  },
  {
   "cell_type": "markdown",
   "metadata": {},
   "source": [
    "Let's see a simple example of how to use this:"
   ]
  },
  {
   "cell_type": "code",
   "execution_count": 13,
   "metadata": {},
   "outputs": [],
   "source": [
    "g = Graph()\n",
    "for i in range(6):\n",
    "    g.addVertex(i)"
   ]
  },
  {
   "cell_type": "code",
   "execution_count": 14,
   "metadata": {},
   "outputs": [
    {
     "data": {
      "text/plain": [
       "{0: <__main__.Vertex at 0x7f0b6017a780>,\n",
       " 1: <__main__.Vertex at 0x7f0b6017a710>,\n",
       " 2: <__main__.Vertex at 0x7f0b6017a1d0>,\n",
       " 3: <__main__.Vertex at 0x7f0b6017a400>,\n",
       " 4: <__main__.Vertex at 0x7f0b6017aa90>,\n",
       " 5: <__main__.Vertex at 0x7f0b6017ada0>}"
      ]
     },
     "execution_count": 14,
     "metadata": {},
     "output_type": "execute_result"
    }
   ],
   "source": [
    "g.vertices"
   ]
  },
  {
   "cell_type": "code",
   "execution_count": 15,
   "metadata": {},
   "outputs": [],
   "source": [
    "g.addEdge(0,1,2)"
   ]
  },
  {
   "cell_type": "code",
   "execution_count": 12,
   "metadata": {},
   "outputs": [
    {
     "name": "stdout",
     "output_type": "stream",
     "text": [
      "0 connectedTo: [1]\n",
      "[<__main__.Vertex instance at 0x104cce5f0>]\n",
      "\n",
      "\n",
      "1 connectedTo: []\n",
      "[]\n",
      "\n",
      "\n",
      "2 connectedTo: []\n",
      "[]\n",
      "\n",
      "\n",
      "3 connectedTo: []\n",
      "[]\n",
      "\n",
      "\n",
      "4 connectedTo: []\n",
      "[]\n",
      "\n",
      "\n",
      "5 connectedTo: []\n",
      "[]\n",
      "\n",
      "\n"
     ]
    }
   ],
   "source": [
    "for vertex in g:\n",
    "    print vertex\n",
    "    print vertex.getConnections()\n",
    "    print '\\n'"
   ]
  },
  {
   "cell_type": "markdown",
   "metadata": {},
   "source": [
    "# Great Job!"
   ]
  }
 ],
 "metadata": {
  "kernelspec": {
   "display_name": "Python 3",
   "language": "python",
   "name": "python3"
  },
  "language_info": {
   "codemirror_mode": {
    "name": "ipython",
    "version": 3
   },
   "file_extension": ".py",
   "mimetype": "text/x-python",
   "name": "python",
   "nbconvert_exporter": "python",
   "pygments_lexer": "ipython3",
   "version": "3.7.3"
  }
 },
 "nbformat": 4,
 "nbformat_minor": 1
}
