{
 "cells": [
  {
   "cell_type": "markdown",
   "metadata": {},
   "source": [
    "# Graph - vocab\n",
    "\n",
    "## Vertices\n",
    "\n",
    "* Vertex - node\n",
    "* key - name of node\n",
    "* payload - additional information of a node\n",
    "\n",
    "## Edges\n",
    "\n",
    "* edge - connect one or more nodes\n",
    "    * Edges can be one way or two way\n",
    "        * If edges in a graph are all one-way we say its a directed graph\n",
    "        \n",
    "## Weight\n",
    "\n",
    "* Edges may be weighted \n",
    "* Weighted edges - show that it cost to go from one vertex to another\n",
    "Example: graph of roads that connect city to another the weight on the edge might rep the distance between the two cities\n",
    "\n",
    "## Formal Definition of a Graph\n",
    "* A graph can be rep by G where G=(V,E)\n",
    "* V - set of vertices \n",
    "* E - set of edges\n",
    "* Each edge is a tuple (v,w) wher w,v are in V\n",
    "    * In addition we can add (v,w,weight) \n",
    "* subgraph s is set of edges e and vertices v such that e is a subpart of edges and v subset of V\n",
    "\n",
    "## Path\n",
    "* path in a graph - sequence of vertices that are connected by edges\n",
    "* path is w_1, w_2,..,w_n such that (w_i,w_(i+1)) are in E\n",
    "* unweighted path length is the number of edges in path, specifically n-1\n",
    "* The weighted path length is the sum of all weights of all the edges in the path\n",
    "    \n",
    "Example:  \n",
    "    * The path from V3 to V1 is the sequence V3,V4,V0,V1 of vertices \n",
    "    * The edges of the path are {(v3,v4,7),(v4,v0,1),(v0,v1,5)}\n",
    "    \n",
    "    \n",
    "    \n",
    "## Cycle\n",
    "* A cycle in a directed graph is a path that starts and ends at the same vertex\n",
    "* Acyclic graph - graph with not cycles\n",
    "* A directed graph with no cycles is called directed Acyclic graph (DAG)\n",
    "\n",
    "Example:\n",
    "    (V5,V2,V3,V5)\n",
    " \n",
    " "
   ]
  },
  {
   "cell_type": "code",
   "execution_count": null,
   "metadata": {},
   "outputs": [],
   "source": []
  }
 ],
 "metadata": {
  "kernelspec": {
   "display_name": "Python 3",
   "language": "python",
   "name": "python3"
  },
  "language_info": {
   "codemirror_mode": {
    "name": "ipython",
    "version": 3
   },
   "file_extension": ".py",
   "mimetype": "text/x-python",
   "name": "python",
   "nbconvert_exporter": "python",
   "pygments_lexer": "ipython3",
   "version": "3.7.3"
  }
 },
 "nbformat": 4,
 "nbformat_minor": 2
}
