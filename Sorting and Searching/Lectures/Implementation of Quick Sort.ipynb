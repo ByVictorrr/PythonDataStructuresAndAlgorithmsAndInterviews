{
 "cells": [
  {
   "cell_type": "markdown",
   "metadata": {},
   "source": [
    "# Implementation of Quick Sort\n",
    "\n",
    "A quick sort first selects a value, which is called the pivot value. Although there are many different ways to choose the pivot value, we will simply use the first item in the list. The role of the pivot value is to assist with splitting the list. The actual position where the pivot value belongs in the final sorted list, commonly called the split point, will be used to divide the list for subsequent calls to the quick sort.\n",
    "* Uses divide and conquer (recursion tree)\n",
    "* first selects a value - pivot value\n",
    "* pivot value - is to assist with splitting the list\n",
    "## Procedure\n",
    "1.) pick a pivot\n",
    "\n",
    "2.) Call partion\n",
    "\n",
    "    * It will find the split point and move other items to the appropriate side of the pivot\n",
    "    \n",
    "    Example:\n",
    "    \n",
    "        * [54,26,93,17,77,31,44,55,20]\n",
    "        \n",
    "    Step 1:\n",
    "    \n",
    "        pivot = 54\n",
    "        leftmark = 26\n",
    "        rightmark = 20\n",
    "            * leftmark and rightmark will converge on split point\n",
    "            * moving leftmark until pivot<leftmark+1\n",
    "            * moving rightmark until piovt>rightmark+1\n",
    "     Step 2:\n",
    "         \n",
    "         *exachange swap(rightmark,leftmark) if both meet requirments\n",
    "         *go back to step 1\n",
    "             * use inital leftmark and rightmark as ones that swapped\n",
    "          \n",
    "         * until step1 then - rightmark < leftmark(until they cross)\n",
    "             * split point found exchange pivot and right\n",
    "             \n",
    "            \n",
    "         \n",
    "            \n",
    "            \n",
    "        \n",
    "        "
   ]
  },
  {
   "cell_type": "markdown",
   "metadata": {},
   "source": [
    "# Resources for Review\n",
    "\n",
    "Check out the resources below for a review of Insertion sort!\n",
    "\n",
    "* [Wikipedia](https://en.wikipedia.org/wiki/Quicksort)\n",
    "* [Visual Algo](http://visualgo.net/sorting.html)\n",
    "* [Sorting Algorithms Animcation with Pseudocode](http://www.sorting-algorithms.com/quick-sort)"
   ]
  },
  {
   "cell_type": "code",
   "execution_count": 43,
   "metadata": {},
   "outputs": [],
   "source": [
    "def quick_sort(arr):\n",
    "    \n",
    "    quick_sort_help(arr,0,len(arr)-1)\n",
    "\n",
    "def quick_sort_help(arr,first,last):\n",
    "    \n",
    "    if(first < last):\n",
    "        j=partition(arr,first,last)\n",
    "        quick_sort_help(arr,first,j-1) # break up into a smaller sublist left\n",
    "        quick_sort_help(arr,j+1,last) # break up into a smaller sublist right\n",
    "        \n",
    "        \n",
    "\n",
    "\n",
    "def partition(arr,first,last):\n",
    "    \n",
    "    \n",
    "    \"\"\"returns the pivot after left passed right\"\"\"\n",
    "    pivot = arr[first]\n",
    "    i=first+1\n",
    "    j=last\n",
    "    \n",
    "    while(j > i):\n",
    "        # i is a pointer looking for something bigger than pivot\n",
    "        while(arr[i] <= pivot and j >= i):\n",
    "            i+=1\n",
    "            print(i)\n",
    "        # j is pointer looker for something smaller than the pivot\n",
    "        while(arr[j] >= pivot and j >= i):\n",
    "            j-=1\n",
    "        if(i<j):\n",
    "            arr[i],arr[j] = arr[j],arr[i]\n",
    "    # when we get here j is at the postion of where the new pivot is\n",
    "    arr[j],arr[first] = arr[first],arr[j]\n",
    "    return j\n",
    "    \n",
    "   "
   ]
  },
  {
   "cell_type": "code",
   "execution_count": 44,
   "metadata": {},
   "outputs": [
    {
     "name": "stdout",
     "output_type": "stream",
     "text": [
      "2\n",
      "4\n",
      "6\n",
      "7\n",
      "8\n"
     ]
    },
    {
     "data": {
      "text/plain": [
       "[1, 2, 3, 4, 4, 5, 6, 7, 11, 12]"
      ]
     },
     "execution_count": 44,
     "metadata": {},
     "output_type": "execute_result"
    }
   ],
   "source": [
    "arr = [2,5,4,6,7,3,1,4,12,11]\n",
    "partition(arr,0, len(arr)-1)\n",
    "quick_sort(arr)\n",
    "arr"
   ]
  },
  {
   "cell_type": "markdown",
   "metadata": {},
   "source": [
    "# Good Job!"
   ]
  },
  {
   "cell_type": "code",
   "execution_count": null,
   "metadata": {},
   "outputs": [],
   "source": []
  },
  {
   "cell_type": "code",
   "execution_count": null,
   "metadata": {},
   "outputs": [],
   "source": []
  }
 ],
 "metadata": {
  "kernelspec": {
   "display_name": "Python 3",
   "language": "python",
   "name": "python3"
  },
  "language_info": {
   "codemirror_mode": {
    "name": "ipython",
    "version": 3
   },
   "file_extension": ".py",
   "mimetype": "text/x-python",
   "name": "python",
   "nbconvert_exporter": "python",
   "pygments_lexer": "ipython3",
   "version": "3.7.3"
  }
 },
 "nbformat": 4,
 "nbformat_minor": 1
}
