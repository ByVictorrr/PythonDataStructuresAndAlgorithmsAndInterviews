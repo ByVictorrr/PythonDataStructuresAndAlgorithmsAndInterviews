{
 "cells": [
  {
   "cell_type": "markdown",
   "metadata": {},
   "source": [
    "# Implementation of Merge Sort\n",
    "\n",
    "Merge sort is a recursive algorithm that continually splits a list in half. If the list is empty or has one item, it is sorted by definition (the base case). If the list has more than one item, we split the list and recursively invoke a merge sort on both halves. Once the two halves are sorted, the fundamental operation, called a merge, is performed. Merging is the process of taking two smaller sorted lists and combining them together into a single, sorted, new list. "
   ]
  },
  {
   "cell_type": "markdown",
   "metadata": {},
   "source": [
    "# Resources for Review\n",
    "\n",
    "Check out the resources below for a review of Merge sort!\n",
    "\n",
    "* [Wikipedia](https://en.wikipedia.org/wiki/Merge_sort)\n",
    "* [Visual Algo](http://visualgo.net/sorting.html)\n",
    "* [Sorting Algorithms Animcation with Pseudocode](http://www.sorting-algorithms.com/merge-sort)"
   ]
  },
  {
   "cell_type": "code",
   "execution_count": 26,
   "metadata": {},
   "outputs": [],
   "source": [
    "def merge_sort(arr):\n",
    "    \n",
    "    # base case \n",
    "    if len(arr) <= 1:\n",
    "        return\n",
    "    # recursive case\n",
    "    else:\n",
    "        \n",
    "        mid = len(arr)//2\n",
    "        right_arr = arr[mid:]\n",
    "        left_arr =  arr[:mid]\n",
    "        \n",
    "        merge_sort(right_arr)\n",
    "        merge_sort(left_arr)\n",
    "        \n",
    "        l=0\n",
    "        r=0\n",
    "        k=0\n",
    "        # sorting \n",
    "        while l < len(left_arr) and r < len(right_arr):\n",
    "            \n",
    "            if left_arr[l] < right_arr[r]:\n",
    "                arr[k] = left_arr[l]\n",
    "                l+=1\n",
    "            else:\n",
    "                # if leftside has a bigger term than right\n",
    "                arr[k] = right_arr[r]\n",
    "                r+=1\n",
    "            k+=1\n",
    "                \n",
    "        # Case - what if one of the sublist is filled already\n",
    "        while r < len(right_arr):\n",
    "            arr[k] = right_arr[r]\n",
    "            r+=1\n",
    "            k+=1\n",
    "                \n",
    "        while l < len(left_arr):\n",
    "            arr[k] = left_arr[l]\n",
    "            l+=1\n",
    "            k+=1\n",
    "                \n",
    "            \n",
    "                \n",
    "    print(\"Merging {}\".format(arr))\n",
    "            \n",
    "        "
   ]
  },
  {
   "cell_type": "code",
   "execution_count": 27,
   "metadata": {},
   "outputs": [
    {
     "name": "stdout",
     "output_type": "stream",
     "text": [
      "Merging\n",
      "Merging\n",
      "Merging\n",
      "Merging\n",
      "Merging\n"
     ]
    },
    {
     "data": {
      "text/plain": [
       "[1, 2, 3, 12, 23, 90]"
      ]
     },
     "execution_count": 27,
     "metadata": {},
     "output_type": "execute_result"
    }
   ],
   "source": [
    "arr = [11,2,5,4,7,6,8,1,23]\n",
    "arr = [3,1,2,90,23,12]\n",
    "merge_sort(arr)\n",
    "arr"
   ]
  },
  {
   "cell_type": "markdown",
   "metadata": {},
   "source": [
    "# Good Job!"
   ]
  },
  {
   "cell_type": "code",
   "execution_count": null,
   "metadata": {},
   "outputs": [],
   "source": []
  }
 ],
 "metadata": {
  "kernelspec": {
   "display_name": "Python 3",
   "language": "python",
   "name": "python3"
  },
  "language_info": {
   "codemirror_mode": {
    "name": "ipython",
    "version": 3
   },
   "file_extension": ".py",
   "mimetype": "text/x-python",
   "name": "python",
   "nbconvert_exporter": "python",
   "pygments_lexer": "ipython3",
   "version": "3.7.3"
  }
 },
 "nbformat": 4,
 "nbformat_minor": 1
}
