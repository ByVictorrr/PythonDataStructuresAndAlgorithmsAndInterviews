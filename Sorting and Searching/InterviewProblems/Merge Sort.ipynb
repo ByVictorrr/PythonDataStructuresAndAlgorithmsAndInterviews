{
 "cells": [
  {
   "cell_type": "markdown",
   "metadata": {},
   "source": [
    "# Merge Sort"
   ]
  },
  {
   "cell_type": "code",
   "execution_count": 15,
   "metadata": {},
   "outputs": [],
   "source": [
    "def mergeSort(arr):\n",
    "    # base case cant sort a single ele\n",
    "    if len(arr) <= 1:\n",
    "        return\n",
    "    else:\n",
    "        mid = len(arr)//2\n",
    "       \n",
    "    \n",
    "        right = arr[mid:]\n",
    "        left = arr[:mid]\n",
    "        # call on the left side\n",
    "        mergeSort(left)\n",
    "        # call on the right side\n",
    "        mergeSort(right)\n",
    "        \n",
    "        # sorting part\n",
    "        r=0\n",
    "        l=0\n",
    "        k=0\n",
    "\n",
    "        # step 1 - get rid of one subarray\n",
    "        while r < len(right)  and l < len(left):\n",
    "            if right[r] > left[l]:\n",
    "                arr[k] = left[l]\n",
    "                l+=1\n",
    "            else:\n",
    "                arr[k] = right[r] \n",
    "                r+=1\n",
    "                \n",
    "            k+=1\n",
    "                \n",
    "        # step 2 - get rid of the rest of the others\n",
    "        while l < len(left): \n",
    "            arr[k] = left[l]\n",
    "            l+=1\n",
    "            k+=1\n",
    "        while r < len(right):\n",
    "            arr[k] = right[r]\n",
    "            r+=1\n",
    "            k+=1\n",
    "            "
   ]
  },
  {
   "cell_type": "code",
   "execution_count": 16,
   "metadata": {},
   "outputs": [
    {
     "data": {
      "text/plain": [
       "[-1, 2, 2, 5, 12, 32]"
      ]
     },
     "execution_count": 16,
     "metadata": {},
     "output_type": "execute_result"
    }
   ],
   "source": [
    "arr = [2,32,12,-1,2,5]\n",
    "mergeSort(arr)\n",
    "arr"
   ]
  },
  {
   "cell_type": "code",
   "execution_count": null,
   "metadata": {},
   "outputs": [],
   "source": [
    "[1,2,3] and [3,4,1]"
   ]
  }
 ],
 "metadata": {
  "kernelspec": {
   "display_name": "Python 3",
   "language": "python",
   "name": "python3"
  },
  "language_info": {
   "codemirror_mode": {
    "name": "ipython",
    "version": 3
   },
   "file_extension": ".py",
   "mimetype": "text/x-python",
   "name": "python",
   "nbconvert_exporter": "python",
   "pygments_lexer": "ipython3",
   "version": "3.7.3"
  }
 },
 "nbformat": 4,
 "nbformat_minor": 2
}
