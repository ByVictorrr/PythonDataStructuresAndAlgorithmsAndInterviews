{
 "cells": [
  {
   "cell_type": "markdown",
   "metadata": {},
   "source": [
    "# Binary Search"
   ]
  },
  {
   "cell_type": "code",
   "execution_count": 1,
   "metadata": {},
   "outputs": [],
   "source": [
    "def binarySearch(arr, ele):\n",
    "    \"\"\"searches through a bst\"\"\"\n",
    "    low = 0\n",
    "    high = len(arr)-1\n",
    "    mid = (high+low)//2\n",
    "    found = False\n",
    "    if high < low:\n",
    "        return False\n",
    "    else:\n",
    "        if arr[mid] == ele:\n",
    "            return True\n",
    "        elif arr[mid] > ele:\n",
    "            found = binarySearch(arr[:mid],ele)\n",
    "        else:\n",
    "            found = binarySearch(arr[mid+1:],ele) # dont include the root mid\n",
    "        return found"
   ]
  },
  {
   "cell_type": "code",
   "execution_count": 3,
   "metadata": {},
   "outputs": [
    {
     "name": "stdout",
     "output_type": "stream",
     "text": [
      "True\n"
     ]
    }
   ],
   "source": [
    "arr = list(range(1,11))\n",
    "print(binarySearch(arr, 10))"
   ]
  },
  {
   "cell_type": "code",
   "execution_count": null,
   "metadata": {},
   "outputs": [],
   "source": []
  },
  {
   "cell_type": "code",
   "execution_count": null,
   "metadata": {},
   "outputs": [],
   "source": []
  }
 ],
 "metadata": {
  "kernelspec": {
   "display_name": "Python 3",
   "language": "python",
   "name": "python3"
  },
  "language_info": {
   "codemirror_mode": {
    "name": "ipython",
    "version": 3
   },
   "file_extension": ".py",
   "mimetype": "text/x-python",
   "name": "python",
   "nbconvert_exporter": "python",
   "pygments_lexer": "ipython3",
   "version": "3.7.3"
  }
 },
 "nbformat": 4,
 "nbformat_minor": 2
}
