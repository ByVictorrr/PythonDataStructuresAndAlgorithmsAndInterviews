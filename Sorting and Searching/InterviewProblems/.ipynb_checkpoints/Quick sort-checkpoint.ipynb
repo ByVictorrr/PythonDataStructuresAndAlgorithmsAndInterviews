{
 "cells": [
  {
   "cell_type": "markdown",
   "metadata": {},
   "source": [
    "# Quick Sort"
   ]
  },
  {
   "cell_type": "code",
   "execution_count": 7,
   "metadata": {},
   "outputs": [],
   "source": [
    "def quicksort(arr):\n",
    "    quicksorthelper(arr, 0, len(arr)-1)\n",
    "    \n",
    "def quicksorthelper(arr, l, h):\n",
    "    # some condition \n",
    "    if l < h:\n",
    "        pivot = partion(arr, l, h)\n",
    "        quicksorthelper(arr, l, pivot-1)\n",
    "        quicksorthelper(arr, pivot+1, h)\n",
    "        \n",
    "\n",
    "def partion(arr,start, end):\n",
    "    pivot = start\n",
    "    i = pivot+1\n",
    "    # start pivot\n",
    "    j = end\n",
    "    # after done j is the new pivot spot\n",
    "    while j>i:\n",
    "        while arr[pivot] >= arr[i]:\n",
    "            i+=1\n",
    "        \n",
    "        while arr[pivot] < arr[j]:\n",
    "            j-=1\n",
    "        \n",
    "        if j > i:\n",
    "            #swap\n",
    "            arr[j],arr[i] = arr[i],arr[j]\n",
    "    # after the while loop and condition\n",
    "    arr[pivot],arr[j] = arr[j],arr[pivot]\n",
    "    return j\n",
    "            \n",
    "        \n",
    "        \n",
    "        \n",
    "        \n",
    "        \n",
    "        "
   ]
  },
  {
   "cell_type": "code",
   "execution_count": 8,
   "metadata": {},
   "outputs": [
    {
     "data": {
      "text/plain": [
       "[-1, 2, 3, 23, 33]"
      ]
     },
     "execution_count": 8,
     "metadata": {},
     "output_type": "execute_result"
    }
   ],
   "source": [
    "arr = [23,33,2,-1,3]\n",
    "quicksort(arr)\n",
    "arr"
   ]
  },
  {
   "cell_type": "code",
   "execution_count": null,
   "metadata": {},
   "outputs": [],
   "source": []
  }
 ],
 "metadata": {
  "kernelspec": {
   "display_name": "Python 3",
   "language": "python",
   "name": "python3"
  },
  "language_info": {
   "codemirror_mode": {
    "name": "ipython",
    "version": 3
   },
   "file_extension": ".py",
   "mimetype": "text/x-python",
   "name": "python",
   "nbconvert_exporter": "python",
   "pygments_lexer": "ipython3",
   "version": "3.7.3"
  }
 },
 "nbformat": 4,
 "nbformat_minor": 2
}
