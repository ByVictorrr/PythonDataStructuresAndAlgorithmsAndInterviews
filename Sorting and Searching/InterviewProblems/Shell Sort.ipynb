{
 "cells": [
  {
   "cell_type": "markdown",
   "metadata": {},
   "source": [
    "# Shell Sort"
   ]
  },
  {
   "cell_type": "code",
   "execution_count": 33,
   "metadata": {},
   "outputs": [],
   "source": [
    "def shellSort(arr):\n",
    "    sublistcount = gap = len(arr) // 2\n",
    "    while gap > 0:\n",
    "        for start in range(sublistcount):\n",
    "            shellSortHelper(arr, start, gap)\n",
    "        gap = gap //2\n",
    "        #sublistcount = gap\n",
    "\n",
    "def shellSortHelper(arr, start, gap):\n",
    "    \"\"\"given a start and gap it sorts a sublist\"\"\"\n",
    "    # sublist insertion sort\n",
    "    for i in range(start, len(arr)-gap)[::gap]:\n",
    "        j = i\n",
    "        while j >= start and arr[j] > arr[j+gap]:\n",
    "            arr[j], arr[j+gap] = arr[j+gap], arr[j]\n",
    "            j-=gap\n",
    "        "
   ]
  },
  {
   "cell_type": "code",
   "execution_count": 34,
   "metadata": {},
   "outputs": [
    {
     "data": {
      "text/plain": [
       "[-1, 2, 2, 3, 4, 10, 200]"
      ]
     },
     "execution_count": 34,
     "metadata": {},
     "output_type": "execute_result"
    }
   ],
   "source": [
    "arr = [2,3,2,4,10,200, -1]\n",
    "shellSort(arr)\n",
    "arr"
   ]
  },
  {
   "cell_type": "code",
   "execution_count": null,
   "metadata": {},
   "outputs": [],
   "source": []
  },
  {
   "cell_type": "code",
   "execution_count": null,
   "metadata": {},
   "outputs": [],
   "source": []
  },
  {
   "cell_type": "code",
   "execution_count": null,
   "metadata": {},
   "outputs": [],
   "source": []
  }
 ],
 "metadata": {
  "kernelspec": {
   "display_name": "Python 3",
   "language": "python",
   "name": "python3"
  },
  "language_info": {
   "codemirror_mode": {
    "name": "ipython",
    "version": 3
   },
   "file_extension": ".py",
   "mimetype": "text/x-python",
   "name": "python",
   "nbconvert_exporter": "python",
   "pygments_lexer": "ipython3",
   "version": "3.7.3"
  }
 },
 "nbformat": 4,
 "nbformat_minor": 2
}
