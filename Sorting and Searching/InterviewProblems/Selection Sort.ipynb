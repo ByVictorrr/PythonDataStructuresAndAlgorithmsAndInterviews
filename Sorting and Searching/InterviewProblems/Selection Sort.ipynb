{
 "cells": [
  {
   "cell_type": "markdown",
   "metadata": {},
   "source": [
    "# Selection Sort"
   ]
  },
  {
   "cell_type": "code",
   "execution_count": 4,
   "metadata": {},
   "outputs": [],
   "source": [
    "def selectionSort(arr):\n",
    "    \"\"\"looks for largest number then swaps it with the outside loop-1\"\"\"\n",
    "    for i in range(len(arr))[::-1]:\n",
    "        curr_high = arr[i]\n",
    "        pos_high = i\n",
    "        j = i\n",
    "        # while j isnt 0 look for the highest number\n",
    "        while j > 0:\n",
    "            if arr[j] > curr_high:\n",
    "                curr_high = arr[j] \n",
    "                pos_high = j\n",
    "            j-=1\n",
    "        # after found the highest value swap\n",
    "        arr[pos_high], arr[i] = arr[i], arr[pos_high]\n",
    "                \n",
    "                \n",
    "            \n",
    "        "
   ]
  },
  {
   "cell_type": "code",
   "execution_count": 6,
   "metadata": {},
   "outputs": [
    {
     "data": {
      "text/plain": [
       "[2, 2, 2, 3, 4, 10, 22]"
      ]
     },
     "execution_count": 6,
     "metadata": {},
     "output_type": "execute_result"
    }
   ],
   "source": [
    "arr = [2,3,10,2,4,22,2]\n",
    "selectionSort(arr)\n",
    "arr"
   ]
  },
  {
   "cell_type": "code",
   "execution_count": null,
   "metadata": {},
   "outputs": [],
   "source": []
  }
 ],
 "metadata": {
  "kernelspec": {
   "display_name": "Python 3",
   "language": "python",
   "name": "python3"
  },
  "language_info": {
   "codemirror_mode": {
    "name": "ipython",
    "version": 3
   },
   "file_extension": ".py",
   "mimetype": "text/x-python",
   "name": "python",
   "nbconvert_exporter": "python",
   "pygments_lexer": "ipython3",
   "version": "3.7.3"
  }
 },
 "nbformat": 4,
 "nbformat_minor": 2
}
